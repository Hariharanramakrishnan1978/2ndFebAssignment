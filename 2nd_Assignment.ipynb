{
 "cells": [
  {
   "cell_type": "markdown",
   "id": "99872a70-9245-4d03-a46d-1588a1b88069",
   "metadata": {},
   "source": [
    "Q1: What are the characteristics of the tuples? Is tuple immutable?"
   ]
  },
  {
   "cell_type": "markdown",
   "id": "b612f545-1ad8-400c-839f-fecb0bed8adc",
   "metadata": {},
   "source": [
    "Ans: Tuple items are Ordered, unchangeable and allows duplicate values. Unchangeable means tuple items cannot be added or removed once tuples are created. Same item can repeat multiple times. Tuples are immutable"
   ]
  },
  {
   "cell_type": "markdown",
   "id": "c9bf315c-5860-451f-8316-b88b36762ad4",
   "metadata": {},
   "source": [
    "Q2. What are the two tuple methods in python? Give an example of each method. Give a reason why tuples have only two in-built methods as compared to Lists."
   ]
  },
  {
   "cell_type": "markdown",
   "id": "23980e60-3dc0-4d81-8334-2e8d3676d2f9",
   "metadata": {},
   "source": [
    "Ans: Tuple has 2 built in methods and they are count() and index()\n",
    "\n",
    "Count() - Returns the number of times a specified value occurs in a tuple\n",
    "index() - Searches the tuple for a specified value and returns the position of where it was found"
   ]
  },
  {
   "cell_type": "code",
   "execution_count": 2,
   "id": "75f5a22f-6e6b-4f20-9f1d-f494ce316f40",
   "metadata": {},
   "outputs": [
    {
     "name": "stdout",
     "output_type": "stream",
     "text": [
      "3 6\n",
      "1 3\n"
     ]
    }
   ],
   "source": [
    "thistuple = (1, 5, 7, 8, 7, 5, 4, 6, 8, 5)\n",
    "x = thistuple.count(5)\n",
    "y=thistuple.index(4)\n",
    "print(x,y)\n",
    "\n",
    "tuple1=(\"Himesh\",\"Chandar\",\"Murali\",\"Govind\")\n",
    "y=tuple1.count(\"Himesh\")\n",
    "z=tuple1.index(\"Govind\")\n",
    "print(y,z)"
   ]
  },
  {
   "cell_type": "markdown",
   "id": "59863992-de0d-4518-8d8d-9a6a7c3ca9b6",
   "metadata": {},
   "source": [
    "Since list is mutable and tubles are immutable. Operations like append, extend, remove etc is not possible in tuples. Once tuple is defined, we just need to fetch the contents of the tuple using count and index and that is sufficient  "
   ]
  },
  {
   "cell_type": "markdown",
   "id": "1cca0a2f-0eea-49f0-97f4-647df591428a",
   "metadata": {},
   "source": [
    "Q3.  Which collection datatypes in python do not allow duplicate items? Write a code using a set to remove duplicates from the given list."
   ]
  },
  {
   "cell_type": "markdown",
   "id": "0fadb347-4768-436f-9c1e-d1969e58a9ec",
   "metadata": {},
   "source": [
    "Ans: Set is the collection datatype that does not allow duplicate items."
   ]
  },
  {
   "cell_type": "code",
   "execution_count": 3,
   "id": "2806d654-a78b-4864-819c-dcde08bf2504",
   "metadata": {},
   "outputs": [
    {
     "name": "stdout",
     "output_type": "stream",
     "text": [
      "[1, 1, 1, 2, 1, 3, 1, 4, 2, 1, 2, 2, 2, 3, 2, 4, 3, 1, 3, 2, 3, 3, 3, 4, 4, 1, 4, 2, 4, 3, 4, 4]\n",
      "{1, 2, 3, 4}\n"
     ]
    }
   ],
   "source": [
    "List = [1, 1, 1, 2, 1, 3, 1, 4, 2, 1, 2, 2, 2, 3, 2, 4, 3, 1, 3, 2, 3, 3, 3, 4, 4, 1, 4, 2, 4, 3, 4, 4]\n",
    "print(List)\n",
    "Var2=set(List)\n",
    "print(Var2)"
   ]
  },
  {
   "cell_type": "markdown",
   "id": "c175528c-6590-4793-8485-adc7dadd6e11",
   "metadata": {},
   "source": [
    "Q4. Explain the difference between the union() and update() methods for a set. Give an example of each method."
   ]
  },
  {
   "cell_type": "markdown",
   "id": "23b95d3d-f9ba-482e-8d00-386afa402c7c",
   "metadata": {},
   "source": [
    "Ans:\n",
    "\n",
    "Union() - This method is used to return all the set elements that are passed to this method parameter excluding duplicate item in the third set.\n",
    "\n",
    "Update() - This method is used to update the set 1 with the values available in set 2 in the same set 1"
   ]
  },
  {
   "cell_type": "code",
   "execution_count": 4,
   "id": "a414733c-960c-4d4c-a132-4466ada8ffeb",
   "metadata": {},
   "outputs": [
    {
     "name": "stdout",
     "output_type": "stream",
     "text": [
      "{'pqr', 1, 2, 3, 5, 'abc', 'def'}\n",
      "{'pqr', 1, 2, 3, 5, 'abc', 'def'}\n"
     ]
    }
   ],
   "source": [
    "set1={\"abc\",1,2,3,\"def\"}\n",
    "set2={\"pqr\",5,2,3,\"abc\"}\n",
    "set3=set1.union(set2)\n",
    "print(set3)\n",
    "set1.update(set2)\n",
    "print(set1)"
   ]
  },
  {
   "cell_type": "markdown",
   "id": "a722b918-7880-452b-85b1-3c5f5493b57f",
   "metadata": {},
   "source": [
    "Here set3 will hold all the elements of set 1 and set 2 excluding duplicates when set3=set1.union(set2) is executed\n",
    "\n",
    "Set1.update(set2) will help to update set1 with the set2 content and no third variable is used like union operation."
   ]
  },
  {
   "cell_type": "markdown",
   "id": "7fc88531-05a8-440d-8e26-4f7a5241d98c",
   "metadata": {},
   "source": [
    "Q5. What is a dictionary? Give an example. Also, state whether a dictionary is ordered or unordered."
   ]
  },
  {
   "cell_type": "markdown",
   "id": "9fc91e45-d78c-4034-872f-76e951003858",
   "metadata": {},
   "source": [
    "Ans:\n",
    "\n",
    "Dictionary is a collection object that is used to store the data values in key and value pair. It is Ordered, changeable and does not allow duplicate"
   ]
  },
  {
   "cell_type": "code",
   "execution_count": 5,
   "id": "b287d681-7722-4e0f-b8e4-6e09c47e0bc3",
   "metadata": {},
   "outputs": [
    {
     "name": "stdout",
     "output_type": "stream",
     "text": [
      "{'Name': 'Hariharan Ramakrishnan', 'Course': 'Datascience Masters', 'Batch': 'Impact', 'Year': '2023'}\n"
     ]
    }
   ],
   "source": [
    "dict = {\n",
    "  \"Name\": \"Hariharan Ramakrishnan\",\n",
    "  \"Course\": \"Datascience Masters\",\n",
    "  \"Batch\": \"Impact\",\n",
    "  \"Year\": \"2023\"\n",
    "}\n",
    "print(dict)"
   ]
  },
  {
   "cell_type": "markdown",
   "id": "9e93f26e-d9e0-49a2-99f1-b41fb1e5243e",
   "metadata": {},
   "source": [
    "Q6. Can we create a nested dictionary? If so, please give an example by creating a simple one-level nested dictionary."
   ]
  },
  {
   "cell_type": "markdown",
   "id": "6dc9da6f-951c-468b-9134-2b2dcd6996f9",
   "metadata": {},
   "source": [
    "Ans:\n",
    "\n",
    "Yes, We can create nested dictionary"
   ]
  },
  {
   "cell_type": "code",
   "execution_count": 6,
   "id": "ad61a18c-4575-405c-956d-7c88c740a0d1",
   "metadata": {},
   "outputs": [
    {
     "name": "stdout",
     "output_type": "stream",
     "text": [
      "dict_values(['Yuvan', 2009])\n",
      "dict_values(['Kapil', 2011])\n",
      "dict_values(['Govind', 2013])\n"
     ]
    }
   ],
   "source": [
    "myfamily = {\n",
    "  \"child1\" : {\n",
    "    \"name\" : \"Yuvan\",\n",
    "    \"year\" : 2009\n",
    "  },\n",
    "  \"child2\" : {\n",
    "    \"name\" : \"Kapil\",\n",
    "    \"year\" : 2011\n",
    "  },\n",
    "  \"child3\" : {\n",
    "    \"name\" : \"Govind\",\n",
    "    \"year\" : 2013\n",
    "  }\n",
    "}\n",
    "for i in myfamily:\n",
    "    print(myfamily[i].values())"
   ]
  },
  {
   "cell_type": "markdown",
   "id": "2b11368c-4a94-46b4-8515-c7c1310ebf60",
   "metadata": {},
   "source": [
    "Q7. Using setdefault() method, create key named topics in the given dictionary and also add the value of the key as this list ['Python', 'Machine Learning’, 'Deep Learning'] dict1 = {'language' : 'Python', 'course': 'Data Science Masters'}"
   ]
  },
  {
   "cell_type": "code",
   "execution_count": 7,
   "id": "ca74f49a-a20c-4bc9-8be2-92b15e2cb34d",
   "metadata": {},
   "outputs": [
    {
     "name": "stdout",
     "output_type": "stream",
     "text": [
      "{'Python': 'Python', 'Machine Learning': 'Machine Learning', 'Deep Learning': 'Deep Learning'}\n"
     ]
    }
   ],
   "source": [
    "topiclist= [\"Python\", \"Machine Learning\", \"Deep Learning\"]\n",
    "topicdict={}\n",
    "for i in topiclist:\n",
    "    topicdict[i]=i\n",
    "\n",
    "print(topicdict)"
   ]
  },
  {
   "cell_type": "markdown",
   "id": "d3319387-6cd0-46dc-a893-968eaeb51551",
   "metadata": {},
   "source": [
    "Q8. What are the three view objects in dictionaries? Use the three in-built methods in python to display \n",
    "these three view objects for the given dictionary. \n",
    "dict1 = {'Sport': 'Cricket' , 'Teams': ['India', 'Australia', 'England', 'South Africa', 'Sri Lanka', 'New Zealand']}"
   ]
  },
  {
   "cell_type": "code",
   "execution_count": 8,
   "id": "d216b8ab-b429-48a0-9035-c79508577257",
   "metadata": {},
   "outputs": [
    {
     "name": "stdout",
     "output_type": "stream",
     "text": [
      "dict_values(['Cricket', ['India', 'Australia', 'England', 'South Africa', 'Sri Lanka', 'New Zealand']])\n",
      "dict_items([('Sport', 'Cricket'), ('Teams', ['India', 'Australia', 'England', 'South Africa', 'Sri Lanka', 'New Zealand'])])\n",
      "dict_keys(['Sport', 'Teams'])\n"
     ]
    }
   ],
   "source": [
    "dict1 = {'Sport': 'Cricket', 'Teams': ['India', 'Australia', 'England', 'South Africa', 'Sri Lanka', 'New Zealand']}\n",
    "vals = dict1.values()\n",
    "print(vals)\n",
    "item_val=dict1.items()\n",
    "print(item_val)\n",
    "key_val=dict1.keys()\n",
    "print(key_val)"
   ]
  },
  {
   "cell_type": "code",
   "execution_count": null,
   "id": "3d8b1f05-8b8a-411c-b7a4-535bfb090b0c",
   "metadata": {},
   "outputs": [],
   "source": []
  }
 ],
 "metadata": {
  "kernelspec": {
   "display_name": "Python 3 (ipykernel)",
   "language": "python",
   "name": "python3"
  },
  "language_info": {
   "codemirror_mode": {
    "name": "ipython",
    "version": 3
   },
   "file_extension": ".py",
   "mimetype": "text/x-python",
   "name": "python",
   "nbconvert_exporter": "python",
   "pygments_lexer": "ipython3",
   "version": "3.10.8"
  }
 },
 "nbformat": 4,
 "nbformat_minor": 5
}
